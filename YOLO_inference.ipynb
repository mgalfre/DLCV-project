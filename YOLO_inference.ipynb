{
 "cells": [
  {
   "cell_type": "markdown",
   "id": "ec3f14bb-2f5c-497f-8e0b-ebea7c88a486",
   "metadata": {},
   "source": [
    "# Yolov7 Inference"
   ]
  },
  {
   "cell_type": "markdown",
   "id": "01d1c5c0-9400-48c6-aea4-0bc22946b259",
   "metadata": {},
   "source": [
    "## Table of Contents\n",
    "1. [Augmented Model](#aug_m)\n",
    "2. [BW Model](#bw_m)\n",
    "3. [Undersampled Model](#under_m)\n",
    "4. [Oversampled Model](#over_m)\n",
    "5. [One Channel Model](#1ch)"
   ]
  },
  {
   "cell_type": "markdown",
   "id": "6613cafb-2b27-45f9-a879-847c22e7f647",
   "metadata": {},
   "source": [
    "## 1. Base Augmented Model <a class=\"anchor\" id=\"aug_m\"></a>"
   ]
  },
  {
   "cell_type": "code",
   "execution_count": 1,
   "id": "040fc77a-99ca-4c66-af4a-0462ba5ac1ee",
   "metadata": {},
   "outputs": [
    {
     "name": "stdout",
     "output_type": "stream",
     "text": [
      "Namespace(augment=False, batch_size=32, conf_thres=0.001, data='yolo_aves.yaml', device='', exist_ok=False, img_size=640, iou_thres=0.65, name='Aug_test', no_trace=False, project='runs/test', save_conf=False, save_hybrid=False, save_json=False, save_txt=False, single_cls=False, task='test', v5_metric=False, verbose=False, weights=['runs/train/50_aves/weights/best.pt'])\n",
      "YOLOR 🚀 v0.1-115-g072f76c torch 1.9.0 CUDA:0 (Tesla K80, 11441.25MB)\n",
      "\n",
      "Fusing layers... \n",
      "IDetect.fuse\n",
      "Model Summary: 208 layers, 6031950 parameters, 0 gradients\n",
      " Convert model to Traced-model... \n",
      "/anaconda/envs/py38_default/lib/python3.8/site-packages/torch/nn/functional.py:718: UserWarning: Named tensors and all their associated APIs are an experimental feature and subject to change. Please do not use them for anything important until they are released as stable. (Triggered internally at  /opt/conda/conda-bld/pytorch_1623448278899/work/c10/core/TensorImpl.h:1156.)\n",
      "  return torch.max_pool2d(input, kernel_size, stride, padding, dilation, ceil_mode)\n",
      " traced_script_module saved! \n",
      " model is traced! \n",
      "\n",
      "\u001b[34m\u001b[1mtest: \u001b[0mScanning 'data/labels/Test.cache' images and labels... 2228 found, 0 missi\u001b[0m\n",
      "               Class      Images      Labels           P           R      mAP@.5\n",
      "                 all        2228        2613       0.764       0.584       0.655       0.377\n",
      "          Ardea alba        2228         367       0.764       0.613       0.689       0.422\n",
      "   Melospiza melodia        2228         209       0.795       0.646       0.701       0.365\n",
      "   Buteo jamaicensis        2228         366       0.747       0.612       0.695       0.458\n",
      "   Pandion haliaetus        2228         210         0.8       0.534       0.684       0.449\n",
      "      Junco hyemalis        2228         138       0.871       0.442       0.622       0.344\n",
      "    Zenaida macroura        2228         255       0.835       0.576       0.613        0.34\n",
      "Cardinalis cardinalis        2228         229       0.658       0.642       0.648       0.347\n",
      "  Picoides pubescens        2228         152       0.705       0.605       0.642       0.305\n",
      " Agelaius phoeniceus        2228         255       0.731         0.6       0.625       0.359\n",
      "      Ardea herodias        2228         432       0.736       0.565        0.63        0.38\n",
      "Speed: 11.9/1.7/13.5 ms inference/NMS/total per 640x640 image at batch-size 32\n",
      "Results saved to runs/test/Aug_test\n"
     ]
    }
   ],
   "source": [
    "!python yolov7/test.py --data yolo_aves.yaml --weights runs/train/50_aves/weights/best.pt \\\n",
    "                        --task test --name \"Aug_test\""
   ]
  },
  {
   "cell_type": "markdown",
   "id": "cc403535-a691-4ce7-8107-61acb22bf282",
   "metadata": {},
   "source": [
    "## 2. BW Model <a class=\"anchor\" id=\"bw_m\"></a>"
   ]
  },
  {
   "cell_type": "code",
   "execution_count": 6,
   "id": "8b8e208f-7b82-4b72-9ad7-bccb6b57c98f",
   "metadata": {},
   "outputs": [
    {
     "name": "stdout",
     "output_type": "stream",
     "text": [
      "Namespace(augment=False, batch_size=32, conf_thres=0.001, data='yolo_aves_bw.yaml', device='', exist_ok=False, img_size=640, iou_thres=0.65, name='BW_test', no_trace=False, project='runs/test', save_conf=False, save_hybrid=False, save_json=False, save_txt=False, single_cls=False, task='test', v5_metric=False, verbose=False, weights=['runs/train/aves_bw/weights/best.pt'])\n",
      "YOLOR 🚀 v0.1-115-g072f76c torch 1.9.0 CUDA:0 (Tesla K80, 11441.25MB)\n",
      "\n",
      "Fusing layers... \n",
      "IDetect.fuse\n",
      "Model Summary: 208 layers, 6031950 parameters, 0 gradients\n",
      " Convert model to Traced-model... \n",
      "/anaconda/envs/py38_default/lib/python3.8/site-packages/torch/nn/functional.py:718: UserWarning: Named tensors and all their associated APIs are an experimental feature and subject to change. Please do not use them for anything important until they are released as stable. (Triggered internally at  /opt/conda/conda-bld/pytorch_1623448278899/work/c10/core/TensorImpl.h:1156.)\n",
      "  return torch.max_pool2d(input, kernel_size, stride, padding, dilation, ceil_mode)\n",
      " traced_script_module saved! \n",
      " model is traced! \n",
      "\n",
      "\u001b[34m\u001b[1mtest: \u001b[0mScanning 'data_bw/labels/Test.cache' images and labels... 2228 found, 0 mi\u001b[0m\n",
      "               Class      Images      Labels           P           R      mAP@.5\n",
      "                 all        2228        2613       0.658       0.517       0.555        0.31\n",
      "          Ardea alba        2228         367       0.693       0.619       0.653       0.395\n",
      "   Melospiza melodia        2228         209       0.609       0.641       0.619       0.319\n",
      "   Buteo jamaicensis        2228         366       0.674       0.563       0.623       0.417\n",
      "   Pandion haliaetus        2228         210       0.658       0.541       0.601       0.387\n",
      "      Junco hyemalis        2228         138        0.77       0.267       0.439        0.24\n",
      "    Zenaida macroura        2228         255       0.685       0.494       0.524       0.266\n",
      "Cardinalis cardinalis        2228         229       0.567       0.326        0.33       0.141\n",
      "  Picoides pubescens        2228         152       0.673       0.618       0.615       0.283\n",
      " Agelaius phoeniceus        2228         255       0.603       0.545       0.564       0.325\n",
      "      Ardea herodias        2228         432       0.648       0.558       0.586       0.326\n",
      "Speed: 11.8/1.4/13.2 ms inference/NMS/total per 640x640 image at batch-size 32\n",
      "Results saved to runs/test/BW_test4\n"
     ]
    }
   ],
   "source": [
    "!python yolov7/test.py --data yolo_aves_bw.yaml --weights runs/train/aves_bw/weights/best.pt \\\n",
    "                        --task test --name \"BW_test\""
   ]
  },
  {
   "cell_type": "markdown",
   "id": "3587b9ff-d11b-4e6d-a9a9-8b307048ea3c",
   "metadata": {},
   "source": [
    "## 3. Undersampled Model <a class=\"anchor\" id=\"under_m\"></a>"
   ]
  },
  {
   "cell_type": "code",
   "execution_count": 1,
   "id": "a70ee617-5bf9-448a-96a8-bf25a5241bd3",
   "metadata": {},
   "outputs": [
    {
     "name": "stdout",
     "output_type": "stream",
     "text": [
      "Namespace(augment=False, batch_size=32, conf_thres=0.001, data='yolo_aves_under.yaml', device='', exist_ok=False, img_size=640, iou_thres=0.65, name='Under_test', no_trace=False, project='runs/test', save_conf=False, save_hybrid=False, save_json=False, save_txt=False, single_cls=False, task='test', v5_metric=False, verbose=False, weights=['runs/train/aves_under/weights/best.pt'])\n",
      "YOLOR 🚀 v0.1-115-g072f76c torch 1.9.0 CUDA:0 (Tesla K80, 11441.25MB)\n",
      "\n",
      "Fusing layers... \n",
      "IDetect.fuse\n",
      "Model Summary: 208 layers, 6031950 parameters, 0 gradients\n",
      " Convert model to Traced-model... \n",
      "/anaconda/envs/py38_default/lib/python3.8/site-packages/torch/nn/functional.py:718: UserWarning: Named tensors and all their associated APIs are an experimental feature and subject to change. Please do not use them for anything important until they are released as stable. (Triggered internally at  /opt/conda/conda-bld/pytorch_1623448278899/work/c10/core/TensorImpl.h:1156.)\n",
      "  return torch.max_pool2d(input, kernel_size, stride, padding, dilation, ceil_mode)\n",
      " traced_script_module saved! \n",
      " model is traced! \n",
      "\n",
      "\u001b[34m\u001b[1mtest: \u001b[0mScanning 'data_under/labels/Test' images and labels... 2228 found, 0 missi\u001b[0m\n",
      "\u001b[34m\u001b[1mtest: \u001b[0mNew cache created: data_under/labels/Test.cache\n",
      "               Class      Images      Labels           P           R      mAP@.5\n",
      "                 all        2228        2613       0.627       0.476       0.513        0.27\n",
      "          Ardea alba        2228         367       0.686       0.546       0.566       0.313\n",
      "   Melospiza melodia        2228         209       0.675       0.498       0.556       0.246\n",
      "   Buteo jamaicensis        2228         366       0.613       0.514       0.544       0.331\n",
      "   Pandion haliaetus        2228         210       0.557       0.448        0.48       0.305\n",
      "      Junco hyemalis        2228         138       0.725       0.268       0.391       0.205\n",
      "    Zenaida macroura        2228         255       0.558       0.451       0.444       0.194\n",
      "Cardinalis cardinalis        2228         229       0.526        0.62       0.607       0.294\n",
      "  Picoides pubescens        2228         152       0.672       0.414       0.478       0.225\n",
      " Agelaius phoeniceus        2228         255       0.574       0.549       0.565       0.313\n",
      "      Ardea herodias        2228         432       0.681       0.451       0.495        0.27\n",
      "Speed: 11.9/1.5/13.4 ms inference/NMS/total per 640x640 image at batch-size 32\n",
      "Results saved to runs/test/Under_test\n"
     ]
    }
   ],
   "source": [
    "!python yolov7/test.py --data yolo_aves_under.yaml --weights runs/train/aves_under/weights/best.pt \\\n",
    "                        --task test --name \"Under_test\""
   ]
  },
  {
   "cell_type": "markdown",
   "id": "3d77720f-0920-44b2-b372-eefb712ef303",
   "metadata": {},
   "source": [
    "## 4. Oversampled Model <a class=\"anchor\" id=\"over_m\"></a>"
   ]
  },
  {
   "cell_type": "code",
   "execution_count": 3,
   "id": "8610238e-1187-464f-a9dd-0103d38bfa5e",
   "metadata": {
    "tags": []
   },
   "outputs": [
    {
     "name": "stdout",
     "output_type": "stream",
     "text": [
      "Namespace(augment=False, batch_size=32, conf_thres=0.001, data='yolo_aves_over.yaml', device='', exist_ok=False, img_size=640, iou_thres=0.65, name='Over_test', no_trace=False, project='runs/test', save_conf=False, save_hybrid=False, save_json=False, save_txt=False, single_cls=False, task='test', v5_metric=False, verbose=False, weights=['runs/train/aves_over/weights/best.pt'])\n",
      "YOLOR 🚀 v0.1-115-g072f76c torch 1.9.0 CUDA:0 (Tesla K80, 11441.25MB)\n",
      "\n",
      "Fusing layers... \n",
      "IDetect.fuse\n",
      "Model Summary: 208 layers, 6031950 parameters, 0 gradients\n",
      " Convert model to Traced-model... \n",
      "/anaconda/envs/py38_default/lib/python3.8/site-packages/torch/nn/functional.py:718: UserWarning: Named tensors and all their associated APIs are an experimental feature and subject to change. Please do not use them for anything important until they are released as stable. (Triggered internally at  /opt/conda/conda-bld/pytorch_1623448278899/work/c10/core/TensorImpl.h:1156.)\n",
      "  return torch.max_pool2d(input, kernel_size, stride, padding, dilation, ceil_mode)\n",
      " traced_script_module saved! \n",
      " model is traced! \n",
      "\n",
      "\u001b[34m\u001b[1mtest: \u001b[0mScanning 'data_over/labels/Test.cache' images and labels... 2228 found, 0 \u001b[0m\n",
      "               Class      Images      Labels           P           R      mAP@.5\n",
      "                 all        2228        2613       0.794       0.573       0.653       0.378\n",
      "          Ardea alba        2228         367        0.82       0.578       0.677       0.431\n",
      "   Melospiza melodia        2228         209       0.797       0.659       0.712       0.358\n",
      "   Buteo jamaicensis        2228         366       0.828       0.598       0.705       0.477\n",
      "   Pandion haliaetus        2228         210       0.831       0.562        0.65       0.422\n",
      "      Junco hyemalis        2228         138       0.846       0.435       0.584       0.325\n",
      "    Zenaida macroura        2228         255       0.863       0.517       0.611       0.344\n",
      "Cardinalis cardinalis        2228         229       0.704       0.624        0.65       0.363\n",
      "  Picoides pubescens        2228         152       0.773       0.604       0.658       0.323\n",
      " Agelaius phoeniceus        2228         255       0.722        0.58       0.641       0.359\n",
      "      Ardea herodias        2228         432       0.758       0.574       0.637        0.38\n",
      "Speed: 11.8/1.4/13.2 ms inference/NMS/total per 640x640 image at batch-size 32\n",
      "Results saved to runs/test/Over_test\n"
     ]
    }
   ],
   "source": [
    "!python yolov7/test.py --data yolo_aves_over.yaml --weights runs/train/aves_over/weights/best.pt \\\n",
    "                        --task test --name \"Over_test\""
   ]
  },
  {
   "cell_type": "markdown",
   "id": "f7cf85fe-3164-4a66-9b4d-bb02b7ac9786",
   "metadata": {},
   "source": [
    "## 5. One Channel Model <a class=\"anchor\" id=\"1ch\"></a>"
   ]
  },
  {
   "cell_type": "code",
   "execution_count": 4,
   "id": "ab49465f-cfae-416c-8b59-5953e1c3f2ff",
   "metadata": {},
   "outputs": [
    {
     "name": "stdout",
     "output_type": "stream",
     "text": [
      "Namespace(augment=False, batch_size=32, conf_thres=0.001, data='yolo_aves_1channel.yaml', device='', exist_ok=False, img_size=640, iou_thres=0.65, name='1channel_test', no_trace=False, project='runs/test', save_conf=False, save_hybrid=False, save_json=False, save_txt=False, single_cls=False, task='test', v5_metric=False, verbose=False, weights=['runs/train/aves_1channel/weights/best.pt'])\n",
      "YOLOR 🚀 v0.1-115-g072f76c torch 1.9.0 CUDA:0 (Tesla K80, 11441.25MB)\n",
      "\n",
      "Fusing layers... \n",
      "IDetect.fuse\n",
      "Model Summary: 208 layers, 6031950 parameters, 0 gradients\n",
      " Convert model to Traced-model... \n",
      "/anaconda/envs/py38_default/lib/python3.8/site-packages/torch/nn/functional.py:718: UserWarning: Named tensors and all their associated APIs are an experimental feature and subject to change. Please do not use them for anything important until they are released as stable. (Triggered internally at  /opt/conda/conda-bld/pytorch_1623448278899/work/c10/core/TensorImpl.h:1156.)\n",
      "  return torch.max_pool2d(input, kernel_size, stride, padding, dilation, ceil_mode)\n",
      " traced_script_module saved! \n",
      " model is traced! \n",
      "\n",
      "\u001b[34m\u001b[1mtest: \u001b[0mScanning 'data_1channel/labels/Test' images and labels... 2228 found, 0 mi\u001b[0m\n",
      "\u001b[34m\u001b[1mtest: \u001b[0mNew cache created: data_1channel/labels/Test.cache\n",
      "               Class      Images      Labels           P           R      mAP@.5\n",
      "                 all        2228        2613       0.701       0.534       0.593        0.33\n",
      "          Ardea alba        2228         367       0.786        0.61        0.69       0.409\n",
      "   Melospiza melodia        2228         209       0.704       0.617       0.657       0.346\n",
      "   Buteo jamaicensis        2228         366       0.672       0.623       0.658       0.418\n",
      "   Pandion haliaetus        2228         210        0.77       0.552       0.657       0.413\n",
      "      Junco hyemalis        2228         138       0.853       0.297       0.454        0.24\n",
      "    Zenaida macroura        2228         255       0.731       0.512       0.565       0.306\n",
      "Cardinalis cardinalis        2228         229       0.567       0.371       0.388       0.171\n",
      "  Picoides pubescens        2228         152       0.658       0.592       0.662       0.321\n",
      " Agelaius phoeniceus        2228         255       0.584        0.58       0.572        0.33\n",
      "      Ardea herodias        2228         432       0.682       0.581       0.626       0.344\n",
      "Speed: 11.9/1.3/13.1 ms inference/NMS/total per 640x640 image at batch-size 32\n",
      "Results saved to runs/test/1channel_test\n"
     ]
    }
   ],
   "source": [
    "!python yolov7/test.py --data yolo_aves_1channel.yaml --weights runs/train/aves_1channel/weights/best.pt \\\n",
    "                        --task test --name \"1channel_test\""
   ]
  },
  {
   "cell_type": "code",
   "execution_count": null,
   "id": "a1127b2e-dde1-4073-8399-3aec08a78dc7",
   "metadata": {},
   "outputs": [],
   "source": []
  }
 ],
 "metadata": {
  "kernelspec": {
   "display_name": "Python 3",
   "language": "python",
   "name": "python3"
  },
  "language_info": {
   "codemirror_mode": {
    "name": "ipython",
    "version": 3
   },
   "file_extension": ".py",
   "mimetype": "text/x-python",
   "name": "python",
   "nbconvert_exporter": "python",
   "pygments_lexer": "ipython3",
   "version": "3.8.10"
  }
 },
 "nbformat": 4,
 "nbformat_minor": 5
}
